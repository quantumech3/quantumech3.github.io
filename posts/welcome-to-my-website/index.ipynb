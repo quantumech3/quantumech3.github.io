{
 "cells": [
  {
   "cell_type": "markdown",
   "metadata": {},
   "source": [
    "---\n",
    "title: \"Welcome To My Website!\"\n",
    "author: \"Scott Burgert\"\n",
    "date: \"2023-12-25\"\n",
    "categories: [\"personal\"]\n",
    "---"
   ]
  },
  {
   "cell_type": "markdown",
   "metadata": {},
   "source": [
    "# Introduction"
   ]
  },
  {
   "cell_type": "markdown",
   "metadata": {},
   "source": [
    "Hello! Welcome to my website. I will be posting blogs about things I find interesting. I try my best to keep up to date in the latest research in Graphics. I discovered that I get more out of what I read when writing about it after. So thats why I write blogs. I am also trying to learn more about the process of research itself and I see blogging as an excersize to push me to grow in that sense.\n",
    "\n",
    "I can't promise a regular upload schedule because I am balancing this with my classes, but I will try my best. \n",
    "\n",
    "*This* blog is dedicated to showing you who I am though. You won't see much about my technical accomplishments here unfortunately because I want to keep this blog brief, and I feel my [resume](/resume.pdf) should be sufficient if you want my technical achievements. I will also primarily be writing about technical topics after this blog so you will get a good sense of my professional interests then."
   ]
  },
  {
   "cell_type": "markdown",
   "metadata": {},
   "source": [
    "# My Creepy Profile Picture"
   ]
  },
  {
   "cell_type": "markdown",
   "metadata": {},
   "source": [
    "![My profile picture](profile.jpeg)"
   ]
  },
  {
   "cell_type": "markdown",
   "metadata": {},
   "source": [
    "Sigh, I got some explaining to do I guess... This profile pic is a 3D scan of my face that was taken when I was doing conformal mapping research with a professor and his team a few years ago. The first day I walked into this lab, his PhD student sat me down on a chair facing a few cameras. I had no idea what was going on. I figured they were taking my picture, but I didn't know that they were getting a LiDAR scan of my face! You can see the utter confusion in my eyes above."
   ]
  },
  {
   "cell_type": "markdown",
   "metadata": {},
   "source": [
    "Its the initiation into the group. Every member of the team gets his/her face scanned. I knew from that moment on that this screenshot of my face in MeshLab had to be my profile picture. Ever since then, whenever I got the chance to bring a friend to the lab, I would always sit them down, tell them nothing, scan their face, and watch their reaction after. Its just so funny. "
   ]
  },
  {
   "cell_type": "markdown",
   "metadata": {},
   "source": [
    "# My Previous Blogs"
   ]
  },
  {
   "cell_type": "markdown",
   "metadata": {},
   "source": [
    "> [Cutting a Square into 3rds](https://medium.com/@quantumech3/how-to-cut-a-square-into-3rds-1f7d1c9125ff)"
   ]
  },
  {
   "cell_type": "markdown",
   "metadata": {},
   "source": [
    "Since the project I was on concluded, I have been spending my time writing blogs. I originally was on Medium, but they took away the ability to theme my blogs, like the one above, the way I wanted 😭. So I decided to make my own website with no paywalls or restrictions."
   ]
  },
  {
   "cell_type": "markdown",
   "metadata": {},
   "source": [
    "# Other hobbies\n",
    "I am an \"artist\". In particular, I like photography, drawing, 3D modeling, and digital music production. Ill only show 2 of these here so I don't drag out the blog for too long.\n",
    "\n",
    "### Music production\n",
    "> [My SoundCloud](http://soundcloud.com/quantumech)\n",
    "\n",
    "So.. this is now the part where I desparately plug my SoundCloud like a true professional. *BUT WAIT, DONT GO!* I promise it gets better from here!\n",
    "\n",
    "I like making music because its one of the most *abstract* forms of art. When you draw something for example, you start that drawing with a *goal*: to make a coherent depiction of the object your trying to capture. This is not true for music though. You can come in with an idea, but thats different from a concrete objective for what your making. That makes this medium unique from the rest of them.\n",
    "\n",
    "There are 2 musicians I think you should check out if your looking to learn digital audio production:\n"
   ]
  },
  {
   "cell_type": "markdown",
   "metadata": {},
   "source": [
    "- **Andrew Hwang**: He is a YouTuber who makes a wide range of music. You may have heard of him, but if you haven't then you really should check him out because his tutorials are excellent and I learned alot of what I know from him.\n",
    "- **Au5**: He makes dubstep tracks. I don't actually play instruments myself but I am familiar enough in synthwork and sound design. But he is one of the few artists who make sounds that I truely don't know how to reproduce. He makes excellent breakdowns on YouTube of each of his songs though."
   ]
  },
  {
   "cell_type": "markdown",
   "metadata": {},
   "source": [
    "### Photography\n",
    "Graphics is my primary interest, but one of the reasons that I got into computer vision was because of photography. I probably burnt you out with my rant in the last section so I will just show you a bunch of photos I took:\n",
    "\n"
   ]
  },
  {
   "cell_type": "markdown",
   "metadata": {},
   "source": [
    "![Sunset at Pinnacle Mountain](./photos/sunset.jpg)"
   ]
  },
  {
   "cell_type": "markdown",
   "metadata": {},
   "source": [
    "![Night sky in Vermont](./photos/night.jpg)"
   ]
  },
  {
   "cell_type": "markdown",
   "metadata": {},
   "source": [
    "![Flowers](./photos/flowers.jpg)"
   ]
  },
  {
   "cell_type": "markdown",
   "metadata": {},
   "source": [
    "![Candy Ocean in Port Jefferson](./photos/candy-ocean.jpg)"
   ]
  },
  {
   "cell_type": "markdown",
   "metadata": {},
   "source": [
    "Almost all my best photos are taken at sunset I think. Atleast in my opinion. But heres a photo that breaks the trend:"
   ]
  },
  {
   "cell_type": "markdown",
   "metadata": {},
   "source": [
    "![Puppy marble](./photos/dog.jpg)"
   ]
  },
  {
   "cell_type": "markdown",
   "metadata": {},
   "source": [
    "# Conclusion\n",
    "I showed you some of my hobbies, and blogging experience. Most of the blogs from here on are going to be technical, and alot more interesting in my opinion. But I figured it would be good to show you my personality a little in case your interested.\n",
    "\n",
    "Till the next blog! 🐶"
   ]
  }
 ],
 "metadata": {
  "kernelspec": {
   "display_name": "Python 3",
   "language": "python",
   "name": "python3"
  },
  "language_info": {
   "name": "python",
   "version": "3.11.2"
  }
 },
 "nbformat": 4,
 "nbformat_minor": 2
}
