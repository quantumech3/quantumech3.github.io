{
 "cells": [
  {
   "cell_type": "markdown",
   "metadata": {},
   "source": [
    "---\n",
    "title: \"Matrix multiplication from scratch\"\n",
    "author: \"Scott Burgert\"\n",
    "date: \"2024-01-09\"\n",
    "categories: [\"python\", \"beginner\"]\n",
    "---"
   ]
  },
  {
   "cell_type": "code",
   "execution_count": null,
   "metadata": {},
   "outputs": [],
   "source": [
    "# TODO this is writtled with mistakes. read over this carefully and proofread it"
   ]
  },
  {
   "cell_type": "markdown",
   "metadata": {},
   "source": [
    "# Introduction"
   ]
  },
  {
   "cell_type": "markdown",
   "metadata": {},
   "source": [
    "Hello again! Last semester I was a TA for CSE 101 at SBU. CSE 101 is the intro course for computer science. I noticed that iteration and lists were one of the most challenging concepts to teach to the students in my recitation. All of my students ended up doing well though, so I want to write something that will help people outside of that course that are new to programming. All my students were taking linear algebra at the time I was teaching this, so basic knowledge of matrix multiplication is assumed."
   ]
  },
  {
   "cell_type": "markdown",
   "metadata": {},
   "source": [
    "I generally think that CS is best taught top down. So that is how I will teach this. First, I will show you the code that performs matrix multiplication to make you curious, then once we have established a goal to work toward, I will teach you the foundations you need to understand this code. Then I will walk you through the implementation step by step."
   ]
  },
  {
   "cell_type": "markdown",
   "metadata": {},
   "source": [
    "# Problem statement\n",
    "We want to write a program that prints $C$ in the calculation $A B = C$, where $A,B$ and $C$ are matrices. $A$ and $B$ are assumed to be a valid matrix multiplication, meaning that $A$ is a $m \\times n$ matrix, and $B$ is a $n \\times k$ matrix."
   ]
  },
  {
   "cell_type": "markdown",
   "metadata": {},
   "source": [
    "![](./photos/1.png)"
   ]
  },
  {
   "cell_type": "markdown",
   "metadata": {},
   "source": [
    "# The Code"
   ]
  },
  {
   "cell_type": "markdown",
   "metadata": {},
   "source": [
    "I will start by defining the matrices we are going to multiply."
   ]
  },
  {
   "cell_type": "markdown",
   "metadata": {},
   "source": [
    "### Making our test case"
   ]
  },
  {
   "cell_type": "markdown",
   "metadata": {},
   "source": [
    "Heres the code we will examine throughout this blog that performs this multiplication. `a_mat` and `b_mat` are the matrices we are multiplying, and `c_mat` is the resulting matrix. A general rule I teach my students is that before you implement anything, you should always make a *test case* first. So lets do that."
   ]
  },
  {
   "cell_type": "markdown",
   "metadata": {},
   "source": [
    "We will get into this matrix multiplication shortly, but some things you should know for now are:"
   ]
  },
  {
   "cell_type": "markdown",
   "metadata": {},
   "source": [
    "- A `list` in Python holds a bunch of elements. \n",
    "- You can think of it as a bunch of variables in 1 variable. If we have 3 variables `a=1`, `b=2` and `c=3`, we could replace this with the list `abc = [1, 2, 3]`. Then `a[0]=1, a[1]=2, a[2]=3` respectively.\n",
    "- Lists can contain other lists. So if we had `a=[1,2,3]`, `b=[4,5,6]`, and `c=[7,8,9]`, we could replace these variables with 1 variable like so: `abc = [[1,2,3],[4,5,6],[7,8,9]]`. Then `abc[0]=[1,2,3]`, `abc[1]=[4,5,6]`, and `abc[2]=[7,8,9]`."
   ]
  },
  {
   "cell_type": "markdown",
   "metadata": {},
   "source": [
    "Knowing this, lets define the matrices we will multiply in Python. Don't worry if this confuses you still. We will go over it in detail:"
   ]
  },
  {
   "cell_type": "code",
   "execution_count": 12,
   "metadata": {},
   "outputs": [],
   "source": [
    "a_mat = [[1,2,3],\n",
    "         [4,5,6]]\n",
    "\n",
    "b_mat = [[9,8],\n",
    "         [7,6],\n",
    "         [5,4]]\n",
    "\n",
    "c_mat = [[0,0],\n",
    "         [0,0]]"
   ]
  },
  {
   "cell_type": "markdown",
   "metadata": {},
   "source": [
    "I initialize the values of `c_mat` to be all 0s for now since we will set them later. A multiplication of a $m \\times n$ and a $n \\times k$ is a $m \\times k$. Since `a_mat` is a $2 \\times 3$, and `b_mat` is a $3 \\times 2$, our resulting matrix, `c_mat`, will be a $2 \\times 2$."
   ]
  },
  {
   "cell_type": "markdown",
   "metadata": {},
   "source": [
    "So we have just coded our matrices, but to make this a test case we need to know what we want our code to set `c_mat` to. That way we know whether our code is doing the right thing. If you were implementing this on your own, you might make more then 1 test case to really make sure your code is solid."
   ]
  },
  {
   "cell_type": "markdown",
   "metadata": {},
   "source": [
    "In this case, we expect\n",
    "```python\n",
    "c_mat = [[38,32]\n",
    "         [101,86]]\n",
    "```\n",
    "once we have ran our multiplication code. You can verify it yourself with [this](http://matrixmultiplication.xyz) website which multiplies 2 matrices for you."
   ]
  },
  {
   "cell_type": "markdown",
   "metadata": {},
   "source": [
    "### The multiplication code"
   ]
  },
  {
   "cell_type": "markdown",
   "metadata": {},
   "source": [
    "I will define some constants to make the code easier to read later."
   ]
  },
  {
   "cell_type": "code",
   "execution_count": 13,
   "metadata": {},
   "outputs": [],
   "source": [
    "M = len(a_mat)\n",
    "N = len(b_mat)\n",
    "K = len(b_mat[0])"
   ]
  },
  {
   "cell_type": "markdown",
   "metadata": {},
   "source": [
    "Here is the code that performs the matrix multiplication and sets each value of `c_mat`:"
   ]
  },
  {
   "cell_type": "code",
   "execution_count": 14,
   "metadata": {},
   "outputs": [],
   "source": [
    "for i in range(M):\n",
    "    for j in range(N):\n",
    "        for k in range(K):\n",
    "            c_mat[i][k] += a_mat[i][j] * b_mat[j][k]"
   ]
  },
  {
   "cell_type": "code",
   "execution_count": 15,
   "metadata": {},
   "outputs": [
    {
     "data": {
      "text/plain": [
       "[[38, 32], [101, 86]]"
      ]
     },
     "execution_count": 15,
     "metadata": {},
     "output_type": "execute_result"
    }
   ],
   "source": [
    "c_mat"
   ]
  },
  {
   "cell_type": "markdown",
   "metadata": {},
   "source": [
    "We can see that this indeed matches our test case from earlier. So we know these \"magic\" lines of code work, but *how*?"
   ]
  },
  {
   "cell_type": "markdown",
   "metadata": {},
   "source": [
    "# How to read my blogs"
   ]
  },
  {
   "cell_type": "markdown",
   "metadata": {},
   "source": [
    "I strongly believe in *active learning*. When I taught my class, I would constantly quiz my students to make sure they understood what I was saying. Answering questions pokes holes in your understanding and makes you aware of what you need to improve in. It also improves your memory retension. You are much less likely to forget, and will get much more out of what I have written in this post if you follow along like I describe below."
   ]
  },
  {
   "cell_type": "markdown",
   "metadata": {},
   "source": [
    "As you read this post, I encourage you to try running this code yourself, change things, and experiment. will give you some ideas for things to try on your own as we go. I will also frequently test your understanding by asking questions and hiding the answer from you in a foldable cell. "
   ]
  },
  {
   "cell_type": "markdown",
   "metadata": {},
   "source": [
    "To make sure you are understanding what I am saying, lets try this format out right now before we continue."
   ]
  },
  {
   "cell_type": "markdown",
   "metadata": {},
   "source": [
    "**What is the value of `M` in our code?**"
   ]
  },
  {
   "cell_type": "code",
   "execution_count": null,
   "metadata": {},
   "outputs": [],
   "source": [
    "#| code-fold: true \n",
    "2\n",
    "# a_mat is a M x N matrix, as discussed in the problem statement. \n",
    "# In our test case, c_mat is a 2x3 matrix, so M = 2"
   ]
  },
  {
   "cell_type": "markdown",
   "metadata": {},
   "source": [
    "**What is the value of `N` in our code?**"
   ]
  },
  {
   "cell_type": "code",
   "execution_count": null,
   "metadata": {},
   "outputs": [],
   "source": [
    "#| code-fold: true \n",
    "3\n",
    "# a_mat is a M x N matrix, as discussed in the problem statement. \n",
    "# In our test case, c_mat is a 2x3 matrix, so N = 3"
   ]
  },
  {
   "cell_type": "markdown",
   "metadata": {},
   "source": [
    "Suppose we have the code\n",
    "```python\n",
    "a = 4\n",
    "b = 5\n",
    "c = 6\n",
    "```\n",
    "**What is the value of `b`?**"
   ]
  },
  {
   "cell_type": "code",
   "execution_count": null,
   "metadata": {},
   "outputs": [],
   "source": [
    "#| code-fold: true \n",
    "5"
   ]
  },
  {
   "cell_type": "markdown",
   "metadata": {},
   "source": [
    "Equivalently, we can write our code like this and it will do the same thing as above, except with different variable names:\n",
    "```python\n",
    "a0, a1, a2 = 4, 5, 6\n",
    "```\n",
    "**What is the value of `a1`?**"
   ]
  },
  {
   "cell_type": "code",
   "execution_count": null,
   "metadata": {},
   "outputs": [],
   "source": [
    "#| code-fold: true \n",
    "5\n",
    "# a1 is the same as b between this question and the last one. "
   ]
  },
  {
   "cell_type": "markdown",
   "metadata": {},
   "source": [
    "Now suppose we write code to do the same thing again, but with `list`s as discussed in the previous section.\n",
    "```python\n",
    "a = [4,5,6]\n",
    "```\n",
    "**What is `a[1]`?**"
   ]
  },
  {
   "cell_type": "code",
   "execution_count": null,
   "metadata": {},
   "outputs": [],
   "source": [
    "#| code-fold: true \n",
    "5\n",
    "# The code is equivalent to the last 2 questions. a[1] = a1 = b. "
   ]
  },
  {
   "cell_type": "markdown",
   "metadata": {},
   "source": [
    "Last question, I promise, then we will dive deeper into the code I introduced.\n",
    "```python\n",
    "a = [4,5,6]\n",
    "```\n",
    "**What is `a[2]`?**"
   ]
  },
  {
   "cell_type": "code",
   "execution_count": null,
   "metadata": {},
   "outputs": [],
   "source": [
    "#| code-fold: true \n",
    "6\n",
    "# From our previous questions,\n",
    "# a[2] = a2 = c"
   ]
  },
  {
   "cell_type": "markdown",
   "metadata": {},
   "source": [
    "**Experiment:** Try running the following code below. What does it output? Next, try changing `index` and see what happens.\n",
    "```Python\n",
    "a = [1,2,3]\n",
    "\n",
    "index = -1\n",
    "\n",
    "print(a[index])\n",
    "```"
   ]
  },
  {
   "cell_type": "markdown",
   "metadata": {},
   "source": [
    "Now that you understand how to read my blogs, lets move on and discuss `list`s."
   ]
  },
  {
   "cell_type": "markdown",
   "metadata": {},
   "source": [
    "# What is a `list`?"
   ]
  },
  {
   "cell_type": "markdown",
   "metadata": {},
   "source": [
    "A `list` is made up of **elements**, each of which have an **index** associated with them. We already saw this before when I was asking you questions actually in the previous section."
   ]
  },
  {
   "cell_type": "markdown",
   "metadata": {},
   "source": [
    "- **Element:** A value inside of the list\n",
    "- **Index:** A number that allows you to access a particular value in the list"
   ]
  },
  {
   "cell_type": "markdown",
   "metadata": {},
   "source": [
    "For \n",
    "```python\n",
    "a = [4, 5, 6]\n",
    "```"
   ]
  },
  {
   "cell_type": "markdown",
   "metadata": {},
   "source": [
    "`a` is our list in this case. We can access the element `4` with `a[0]`. In other words, `0` is the *index* of the element `4`."
   ]
  },
  {
   "cell_type": "markdown",
   "metadata": {},
   "source": [
    "In general, to access an element in a list `arr` at index `i`, we would do this with the following syntax: \n",
    "```python\n",
    "arr[i]\n",
    "```"
   ]
  },
  {
   "cell_type": "markdown",
   "metadata": {},
   "source": [
    "![List indexing in Python](./photos/2.png)"
   ]
  },
  {
   "cell_type": "markdown",
   "metadata": {},
   "source": [
    "In Python, positive indices start at the beginning and go toward the end of the list, and negative indices start at the end and move toward the beginning of the list."
   ]
  },
  {
   "cell_type": "markdown",
   "metadata": {},
   "source": [
    "Its important to note that not all languages support using negative indices inside of lists. Its a nice quirk of Python."
   ]
  },
  {
   "cell_type": "markdown",
   "metadata": {},
   "source": [
    "Concider the code below. **What is `x[1]`?**\n",
    "```python\n",
    "x = [9, 2, 3, 6, 4]\n",
    "```"
   ]
  },
  {
   "cell_type": "code",
   "execution_count": null,
   "metadata": {},
   "outputs": [],
   "source": [
    "#| code-fold: true \n",
    "x[1] = 2\n",
    "# Very important: The first element in our list always starts at 0!!!!!!"
   ]
  },
  {
   "cell_type": "markdown",
   "metadata": {},
   "source": [
    "**What is the index of the element `6` in `x`?**"
   ]
  },
  {
   "cell_type": "code",
   "execution_count": null,
   "metadata": {},
   "outputs": [],
   "source": [
    "#| code-fold: true \n",
    "x[3] = 6\n",
    "# Therefore the index of 6 is 3."
   ]
  },
  {
   "cell_type": "markdown",
   "metadata": {},
   "source": [
    "**What is the value of `x[-4]`?**"
   ]
  },
  {
   "cell_type": "code",
   "execution_count": null,
   "metadata": {},
   "outputs": [],
   "source": [
    "#| code-fold: true \n",
    "x[-4] = 2"
   ]
  },
  {
   "cell_type": "markdown",
   "metadata": {},
   "source": [
    "`x` has 5 elements. So it has a **length** of 5. In general, we can get the length of any list in Python with the `len()` function."
   ]
  },
  {
   "cell_type": "code",
   "execution_count": 18,
   "metadata": {},
   "outputs": [
    {
     "data": {
      "text/plain": [
       "5"
      ]
     },
     "execution_count": 18,
     "metadata": {},
     "output_type": "execute_result"
    }
   ],
   "source": [
    "x = [9, 2, 3, 6, 4]\n",
    "len(x)"
   ]
  },
  {
   "cell_type": "markdown",
   "metadata": {},
   "source": [
    "Elements of a list can be of any type, even within the same list, not just integers like i've shown so far. But the same rules apply for the indexing."
   ]
  },
  {
   "cell_type": "code",
   "execution_count": 32,
   "metadata": {},
   "outputs": [],
   "source": [
    "items = [\"I\", True, \"ly\", \"would\", \"like\", \"some\", 3.14159]"
   ]
  },
  {
   "cell_type": "markdown",
   "metadata": {},
   "source": [
    "Lets index some values in `items`"
   ]
  },
  {
   "cell_type": "code",
   "execution_count": 23,
   "metadata": {},
   "outputs": [
    {
     "data": {
      "text/plain": [
       "True"
      ]
     },
     "execution_count": 23,
     "metadata": {},
     "output_type": "execute_result"
    }
   ],
   "source": [
    "items[1]"
   ]
  },
  {
   "cell_type": "code",
   "execution_count": 24,
   "metadata": {},
   "outputs": [
    {
     "data": {
      "text/plain": [
       "'would'"
      ]
     },
     "execution_count": 24,
     "metadata": {},
     "output_type": "execute_result"
    }
   ],
   "source": [
    "items[3]"
   ]
  },
  {
   "cell_type": "markdown",
   "metadata": {},
   "source": [
    "Now its your turn. **What is `items[-1]`?**"
   ]
  },
  {
   "cell_type": "code",
   "execution_count": null,
   "metadata": {},
   "outputs": [],
   "source": [
    "#| code-fold: true \n",
    "items[-1] = 3.14159"
   ]
  },
  {
   "cell_type": "markdown",
   "metadata": {},
   "source": [
    "In general, `arr[-1]` will get you the element at the end of the list. But suppose we didn't have negative indexing. For example, many other languages such as C++ and Java do not have this luxury. So its good to know another way to do this."
   ]
  },
  {
   "cell_type": "markdown",
   "metadata": {},
   "source": [
    "If we have $n$ elements in a list, then we want to get the $n^{th}$ element of that list since that will be at the end."
   ]
  },
  {
   "cell_type": "markdown",
   "metadata": {},
   "source": [
    "So would `arr[len(arr)]` get you the last element of `arr`? As always when programming, lets try it and see what happens."
   ]
  },
  {
   "cell_type": "code",
   "execution_count": 26,
   "metadata": {},
   "outputs": [
    {
     "ename": "IndexError",
     "evalue": "list index out of range",
     "output_type": "error",
     "traceback": [
      "\u001b[0;31m---------------------------------------------------------------------------\u001b[0m",
      "\u001b[0;31mIndexError\u001b[0m                                Traceback (most recent call last)",
      "Cell \u001b[0;32mIn[26], line 2\u001b[0m\n\u001b[1;32m      1\u001b[0m arr \u001b[38;5;241m=\u001b[39m [\u001b[38;5;241m1\u001b[39m,\u001b[38;5;241m2\u001b[39m,\u001b[38;5;241m3\u001b[39m,\u001b[38;5;241m4\u001b[39m,\u001b[38;5;241m5\u001b[39m,\u001b[38;5;241m6\u001b[39m]\n\u001b[0;32m----> 2\u001b[0m \u001b[43marr\u001b[49m\u001b[43m[\u001b[49m\u001b[38;5;28;43mlen\u001b[39;49m\u001b[43m(\u001b[49m\u001b[43marr\u001b[49m\u001b[43m)\u001b[49m\u001b[43m]\u001b[49m\n",
      "\u001b[0;31mIndexError\u001b[0m: list index out of range"
     ]
    }
   ],
   "source": [
    "arr = [1,2,3,4,5,6]\n",
    "arr[len(arr)]"
   ]
  },
  {
   "cell_type": "markdown",
   "metadata": {},
   "source": [
    "No! It won't.... huh. In fact it threw an error. Why?"
   ]
  },
  {
   "cell_type": "markdown",
   "metadata": {},
   "source": [
    "Remember, *indices always start at 0*! Lets simplify the problem a bit and then you will see why this causes an error to happen. Lets define a smaller list."
   ]
  },
  {
   "cell_type": "code",
   "execution_count": 29,
   "metadata": {},
   "outputs": [],
   "source": [
    "a = [1,2]"
   ]
  },
  {
   "cell_type": "markdown",
   "metadata": {},
   "source": [
    "![When IndexError occurs](./photos/3.png)"
   ]
  },
  {
   "cell_type": "markdown",
   "metadata": {},
   "source": [
    "Hopefully by now you should see that if we only use positive indices, the last element of `a` would be at *index* 1. So `a[len(a)] = a[2]` which intern is greater then the greatest index in the list, causing an `IndexError`. In general, if we have indices that are outside of the range of elements in the array, then we will crash the program."
   ]
  },
  {
   "cell_type": "markdown",
   "metadata": {},
   "source": [
    "Also notice how the last element of `a` has index `1`, but `len(a)` returns `2` since there are 2 elements. We are always going to be \"1 off\" from the last element. To fix this, we can just subtract 1."
   ]
  },
  {
   "cell_type": "markdown",
   "metadata": {},
   "source": [
    "The following code will always get the last element of an array:"
   ]
  },
  {
   "cell_type": "code",
   "execution_count": 30,
   "metadata": {},
   "outputs": [
    {
     "data": {
      "text/plain": [
       "2"
      ]
     },
     "execution_count": 30,
     "metadata": {},
     "output_type": "execute_result"
    }
   ],
   "source": [
    "a[len(a) - 1]"
   ]
  },
  {
   "cell_type": "code",
   "execution_count": 2,
   "metadata": {},
   "outputs": [
    {
     "data": {
      "text/plain": [
       "3.14159"
      ]
     },
     "execution_count": 2,
     "metadata": {},
     "output_type": "execute_result"
    }
   ],
   "source": [
    "items = [\"I\", True, \"ly\", \"would\", \"like\", \"some\", 3.14159]\n",
    "\n",
    "items[len(items) - 1]"
   ]
  },
  {
   "cell_type": "markdown",
   "metadata": {},
   "source": [
    "We can see that this indeed works, not only with `a`, but with any list."
   ]
  },
  {
   "cell_type": "markdown",
   "metadata": {},
   "source": [
    "**What would `items[-len(items) - 1]` do?**"
   ]
  },
  {
   "cell_type": "code",
   "execution_count": null,
   "metadata": {},
   "outputs": [],
   "source": [
    "#| code-fold: true \n",
    "items[-len(items)] = items[-8] = IndexError\n",
    "# Throws an error. Our list is 7 elements long. \n",
    "# So -8 is \"one off\" before the first element."
   ]
  },
  {
   "cell_type": "markdown",
   "metadata": {},
   "source": [
    "**What would `items[-len(items)]` do?**"
   ]
  },
  {
   "cell_type": "code",
   "execution_count": null,
   "metadata": {},
   "outputs": [],
   "source": [
    "#| code-fold: true \n",
    "items[-len(items)] = items[-7] = 'I'\n",
    "# It will always return the first element. \n",
    "# Unlike positive indices, negative indices start at -1."
   ]
  },
  {
   "cell_type": "markdown",
   "metadata": {},
   "source": [
    "We can also assign to the values of lists the same way we would with variables:"
   ]
  },
  {
   "cell_type": "code",
   "execution_count": 3,
   "metadata": {},
   "outputs": [
    {
     "data": {
      "text/plain": [
       "['I', True, 'changed', 'would', 'like', 'some', 3.14159]"
      ]
     },
     "execution_count": 3,
     "metadata": {},
     "output_type": "execute_result"
    }
   ],
   "source": [
    "items[2] = 'changed'\n",
    "items"
   ]
  },
  {
   "cell_type": "markdown",
   "metadata": {},
   "source": [
    "We can see that we changed the 3rd element of `items` in the statement above to `changed`. All of the same indexing rules apply."
   ]
  },
  {
   "cell_type": "markdown",
   "metadata": {},
   "source": [
    "# 2D lists in Python"
   ]
  },
  {
   "cell_type": "markdown",
   "metadata": {},
   "source": [
    "Recall that lists can contain any datatype. This means that we can have a *list of lists*! In fact, we already saw this when we were implementing our test case for the matrix multiplication. Lets concider our definition of `a_mat` again:"
   ]
  },
  {
   "cell_type": "code",
   "execution_count": 35,
   "metadata": {},
   "outputs": [],
   "source": [
    "a_mat = [[1,2,3], [4,5,6]]"
   ]
  },
  {
   "cell_type": "markdown",
   "metadata": {},
   "source": [
    "Indexing these lists works the same as with any other datatype. `a_mat[0]` will get you the first list, and `a_mat[1]` will get you the second list."
   ]
  },
  {
   "cell_type": "code",
   "execution_count": 39,
   "metadata": {},
   "outputs": [
    {
     "data": {
      "text/plain": [
       "[1, 2, 3]"
      ]
     },
     "execution_count": 39,
     "metadata": {},
     "output_type": "execute_result"
    }
   ],
   "source": [
    "a_mat[0]"
   ]
  },
  {
   "cell_type": "code",
   "execution_count": 40,
   "metadata": {},
   "outputs": [
    {
     "data": {
      "text/plain": [
       "[4, 5, 6]"
      ]
     },
     "execution_count": 40,
     "metadata": {},
     "output_type": "execute_result"
    }
   ],
   "source": [
    "a_mat[1]"
   ]
  },
  {
   "cell_type": "markdown",
   "metadata": {},
   "source": [
    "**What is the value of `b_mat[1]` from our matrix multiplication test case?**\n",
    "```python\n",
    "b_mat = [[9,8],\n",
    "         [7,6],\n",
    "         [5,4]]\n",
    "```"
   ]
  },
  {
   "cell_type": "code",
   "execution_count": null,
   "metadata": {},
   "outputs": [],
   "source": [
    "#| code-fold: true \n",
    "b_mat[1] = [7,6]"
   ]
  },
  {
   "cell_type": "markdown",
   "metadata": {},
   "source": [
    "**What is the value of `b_mat[-1]` from our matrix multiplication test case?**"
   ]
  },
  {
   "cell_type": "code",
   "execution_count": null,
   "metadata": {},
   "outputs": [],
   "source": [
    "#| code-fold: true \n",
    "b_mat[-1] = [5,4]"
   ]
  },
  {
   "cell_type": "markdown",
   "metadata": {},
   "source": [
    "Since we are obtaining a list as our element, we can index what we obtain to get a specific value of that sublist. For example, `b_mat[0][1]` will get the element at $B_{0,1}$, which is 8."
   ]
  },
  {
   "cell_type": "markdown",
   "metadata": {},
   "source": [
    "![](./photos/4.jpg)"
   ]
  },
  {
   "cell_type": "code",
   "execution_count": 45,
   "metadata": {},
   "outputs": [
    {
     "data": {
      "text/plain": [
       "8"
      ]
     },
     "execution_count": 45,
     "metadata": {},
     "output_type": "execute_result"
    }
   ],
   "source": [
    "b_mat[0][1]"
   ]
  },
  {
   "cell_type": "markdown",
   "metadata": {},
   "source": [
    "Believe it or not, we can actually now start to understand the matrix multiplication code. Now we can understand how we are getting the `M`, `N`, and `K` variables."
   ]
  },
  {
   "cell_type": "markdown",
   "metadata": {},
   "source": [
    "![](./photos/1.png)"
   ]
  },
  {
   "cell_type": "code",
   "execution_count": null,
   "metadata": {},
   "outputs": [],
   "source": [
    "M = len(a_mat)\n",
    "N = len(b_mat)\n",
    "K = len(b_mat[0])"
   ]
  },
  {
   "cell_type": "markdown",
   "metadata": {},
   "source": [
    "Inside of the matrix multiplication code, I first define these constants which describe the widths and heights of the matrices: $A = m \\times n$, $B = n \\times k$, $C = m \\times k$"
   ]
  },
  {
   "cell_type": "markdown",
   "metadata": {},
   "source": [
    "We can think of `len(a_mat)` to be the number of lists in `a_mat`, which intern are the number of rows in `a_mat`."
   ]
  },
  {
   "cell_type": "markdown",
   "metadata": {},
   "source": [
    "We can get the number of columns by getting the number of rows in $B$ with `len(b_mat)` since $B$ is required to have the same height as $A$'s width, else its not a valid matrix multiplication."
   ]
  },
  {
   "cell_type": "markdown",
   "metadata": {},
   "source": [
    "To get the number of columns in $B$, we can examine the length of one of its rows with `len(b_mat[0])`. We don't have to use the $0^{th}$ row. We can get the length of any row and it will be the same. For example, the following code would get the same value for `K`, no matter the size of the matrix:"
   ]
  },
  {
   "cell_type": "code",
   "execution_count": 46,
   "metadata": {},
   "outputs": [],
   "source": [
    "K = len(b_mat[-1])"
   ]
  },
  {
   "cell_type": "markdown",
   "metadata": {},
   "source": [
    "We now have the tools to write a basic matrix multiplication program... technically. We can now hard code the formula for multiplying a 2x2 matrix for example:"
   ]
  },
  {
   "cell_type": "code",
   "execution_count": 50,
   "metadata": {},
   "outputs": [],
   "source": [
    "a_mat = [[1,2],\n",
    "         [3,4]]\n",
    "b_mat = [[0,1],\n",
    "         [1,0]]\n",
    "\n",
    "c_mat = [[a_mat[0][0]*b_mat[0][0] + a_mat[0][1]*b_mat[1][0], a_mat[0][0]*b_mat[0][1] + a_mat[0][1]*b_mat[1][1]],\n",
    "         [a_mat[1][0]*b_mat[0][0] + a_mat[1][1]*b_mat[1][0], a_mat[1][0]*b_mat[0][1] + a_mat[1][1]*b_mat[1][1]]]"
   ]
  },
  {
   "cell_type": "code",
   "execution_count": 51,
   "metadata": {},
   "outputs": [
    {
     "data": {
      "text/plain": [
       "[[2, 1], [4, 3]]"
      ]
     },
     "execution_count": 51,
     "metadata": {},
     "output_type": "execute_result"
    }
   ],
   "source": [
    "c_mat"
   ]
  },
  {
   "cell_type": "markdown",
   "metadata": {},
   "source": [
    "And we see that it clearly does work. But the code is incredibly hard to read and we can only do it for fixed dimensions. If we try to change the shape of our matrices, our program will break."
   ]
  },
  {
   "cell_type": "markdown",
   "metadata": {},
   "source": [
    "So there is another piece of the puzzle we need to implement our matrix multiplication program: *iteration*!"
   ]
  },
  {
   "cell_type": "markdown",
   "metadata": {},
   "source": [
    "# Lets pause for a second"
   ]
  },
  {
   "cell_type": "markdown",
   "metadata": {},
   "source": [
    "We just went over alot. We are half way there. Don't worry. If you look at where the scroll bar is on the page you can see there isnt alot left to go."
   ]
  },
  {
   "cell_type": "markdown",
   "metadata": {},
   "source": [
    "When I was learning how to use arrays for the first time, I couldn't make heads or tails of it. It seemed like there are so many \"weird\" rules, exceptions, and concepts I need to master such as starting at 0, out of bounds indexing and more. Learning how to code is hard for everyone. So its important to realize that your not the only one going through this. "
   ]
  },
  {
   "cell_type": "markdown",
   "metadata": {},
   "source": [
    "When I was TAing for CSE 101, I could see visible frustration on my students faces when I was helping them out during office hours. But they also got through this. Your no different then them. The most important advice that I can give you for CS, as general and corny as it may sound, is to *not give up*."
   ]
  },
  {
   "cell_type": "markdown",
   "metadata": {},
   "source": [
    "Another piece of advice I would give to you is to take a break once in a while. Sometimes after a long study session, when I take a break, the answer just comes to me. I have observed this in my students as well. So maybe concider taking a 10 minute break before you read the rest of this blog just to let what you've learned so far sink in."
   ]
  },
  {
   "cell_type": "markdown",
   "metadata": {},
   "source": [
    "Once your ready, lets move on to iteration."
   ]
  },
  {
   "cell_type": "markdown",
   "metadata": {},
   "source": [
    "# What is a `for` loop?"
   ]
  },
  {
   "cell_type": "markdown",
   "metadata": {},
   "source": [
    "Lets simplify by examining 1 part of the matrix multiplication problem. Suppose I have a list containing numbers, and I want to sum them all together:"
   ]
  },
  {
   "cell_type": "code",
   "execution_count": 5,
   "metadata": {},
   "outputs": [
    {
     "name": "stdout",
     "output_type": "stream",
     "text": [
      "6\n"
     ]
    }
   ],
   "source": [
    "arr = [1,2,3]\n",
    "\n",
    "sum = arr[0] + arr[1] + arr[2]\n",
    "\n",
    "print(sum)"
   ]
  },
  {
   "cell_type": "markdown",
   "metadata": {},
   "source": [
    "We could do it like we did above: We add each element by manually indexing them. However, like our matrix multiplication problem, this solution becomes extremely tedious for large lists, and impossible if we don't know the length of the list beforehand."
   ]
  },
  {
   "cell_type": "markdown",
   "metadata": {},
   "source": [
    "Lets redefine `arr` with another element added and you'll see what I mean."
   ]
  },
  {
   "cell_type": "code",
   "execution_count": 6,
   "metadata": {},
   "outputs": [
    {
     "name": "stdout",
     "output_type": "stream",
     "text": [
      "6\n"
     ]
    }
   ],
   "source": [
    "arr = [1,2,3,4]\n",
    "\n",
    "sum = arr[0] + arr[1] + arr[2]\n",
    "\n",
    "print(sum)"
   ]
  },
  {
   "cell_type": "markdown",
   "metadata": {},
   "source": [
    "Our sum should be `10`. No matter, we can fix this by manually adding another term to our `sum`:"
   ]
  },
  {
   "cell_type": "code",
   "execution_count": 7,
   "metadata": {},
   "outputs": [
    {
     "name": "stdout",
     "output_type": "stream",
     "text": [
      "10\n"
     ]
    }
   ],
   "source": [
    "arr = [1,2,3,4]\n",
    "\n",
    "sum = arr[0] + arr[1] + arr[2] + arr[3]\n",
    "\n",
    "print(sum)"
   ]
  },
  {
   "cell_type": "markdown",
   "metadata": {},
   "source": [
    "Now it works! But suppose I remove an element from `arr`. So we now have the code\n",
    "\n",
    "```python\n",
    "arr = [1,2,3]\n",
    "\n",
    "sum = arr[0] + arr[1] + arr[2] + arr[3]\n",
    "\n",
    "print(sum)\n",
    "```\n",
    "**What do you think will happen?**"
   ]
  },
  {
   "cell_type": "markdown",
   "metadata": {},
   "source": [
    "1. `IndexError`\n",
    "2. Prints `6`\n",
    "3. Prints `10`"
   ]
  },
  {
   "cell_type": "code",
   "execution_count": null,
   "metadata": {},
   "outputs": [],
   "source": [
    "#| code-fold: true\n",
    "IndexError\n",
    "# We have 3 elements. Our maximum index is 2. "
   ]
  },
  {
   "cell_type": "markdown",
   "metadata": {},
   "source": [
    "We can fix this problem with *for loops*, which will allow us to vary the amount of terms in our sum. Lets see how to write code to sum the elements of a list, even when we don't know what the length of it is!"
   ]
  },
  {
   "cell_type": "markdown",
   "metadata": {},
   "source": [
    "This code\n",
    "```python\n",
    "arr = [1,2,3]\n",
    "\n",
    "sum = arr[0] + arr[1] + arr[2]\n",
    "\n",
    "print(sum)\n",
    "```\n",
    "Will produce the same output as:"
   ]
  },
  {
   "cell_type": "code",
   "execution_count": 8,
   "metadata": {},
   "outputs": [
    {
     "name": "stdout",
     "output_type": "stream",
     "text": [
      "6\n"
     ]
    }
   ],
   "source": [
    "arr = [1,2,3]\n",
    "\n",
    "sum = 0\n",
    "\n",
    "sum += arr[0]\n",
    "sum += arr[1]\n",
    "sum += arr[2]\n",
    "\n",
    "print(sum)"
   ]
  },
  {
   "cell_type": "markdown",
   "metadata": {},
   "source": [
    "Which will do the same thing as:"
   ]
  },
  {
   "cell_type": "code",
   "execution_count": 10,
   "metadata": {},
   "outputs": [
    {
     "name": "stdout",
     "output_type": "stream",
     "text": [
      "6\n"
     ]
    }
   ],
   "source": [
    "arr = [1,2,3]\n",
    "\n",
    "sum = 0\n",
    "\n",
    "for i in range(len(arr)):\n",
    "    sum += arr[i]\n",
    "\n",
    "print(sum)"
   ]
  },
  {
   "cell_type": "markdown",
   "metadata": {},
   "source": [
    "```python\n",
    "for i in range(N):\n",
    "    # insert code here to run N times\n",
    "```\n",
    "\n",
    "Do you see whats happening? A `for` loop takes the indented block of code, and runs it `N` times, setting the value of `i` in each *iteration* to successively increasing values starting at 0, and ending at `N - 1`."
   ]
  },
  {
   "cell_type": "markdown",
   "metadata": {},
   "source": [
    "**What will the following code print?**\n",
    "```python\n",
    "for i in range(5):\n",
    "    print(i)\n",
    "```"
   ]
  },
  {
   "cell_type": "code",
   "execution_count": null,
   "metadata": {},
   "outputs": [],
   "source": [
    "#| code-fold: true\n",
    "0\n",
    "1\n",
    "2\n",
    "3\n",
    "4\n",
    "# You may have thought that it would print 5, that is a common mistake. \n",
    "# Our loop ends at N - 1, \n",
    "# just like indices of list with N elements ends at N - 1."
   ]
  },
  {
   "cell_type": "markdown",
   "metadata": {},
   "source": [
    "The reason we can replace\n",
    "```python\n",
    "sum += arr[0]\n",
    "sum += arr[1]\n",
    "sum += arr[2]\n",
    "```\n",
    "with \n",
    "```python\n",
    "for i in range(len(arr)):\n",
    "    sum += arr[i]\n",
    "```\n",
    "is that the following happens:"
   ]
  },
  {
   "cell_type": "markdown",
   "metadata": {},
   "source": [
    "1. The for loop sets `i = 0`\n",
    "2. `sum += arr[i]` => `sum += arr[0]` is ran\n",
    "3. The for loops sets `i = 1`\n",
    "4. `sum += arr[i]` => `sum += arr[1]` is ran"
   ]
  },
  {
   "cell_type": "markdown",
   "metadata": {},
   "source": [
    "And so on all the way up to `i = len(arr) - 1`, when `sum += arr[len(arr) - 1]`, in which the loop terminates and moves to the next line of code after it."
   ]
  },
  {
   "cell_type": "markdown",
   "metadata": {},
   "source": [
    "For loops solve our problem because no matter what `len(arr)` is, we will always have the correct amount of terms. This is important because we are using for loops to sum each of the products, for each of the entries in `c_mat`."
   ]
  },
  {
   "cell_type": "markdown",
   "metadata": {},
   "source": [
    "**Experiment:** Instead of summing the elements of `arr`, modify the code to take the *product* of all the elements."
   ]
  },
  {
   "cell_type": "markdown",
   "metadata": {},
   "source": [
    "**Fill in the blanks to sum every <ins>odd</ins> index of `arr`:**"
   ]
  },
  {
   "cell_type": "markdown",
   "metadata": {},
   "source": [
    "```python\n",
    "sum = 0\n",
    "for i in range(___):\n",
    "    sum += arr[___]\n",
    "```"
   ]
  },
  {
   "cell_type": "code",
   "execution_count": null,
   "metadata": {},
   "outputs": [],
   "source": [
    "#| code-fold: true\n",
    "sum = 0\n",
    "for i in range(len(arr) // 2):\n",
    "    sum += arr[2*i + 1]"
   ]
  },
  {
   "cell_type": "markdown",
   "metadata": {},
   "source": [
    "**Fill in the blanks to sum all <ins>diagonal</ins> elements in `arr`, starting from the top left:**\n",
    "```python\n",
    "arr = [[1,2],\n",
    "       [3,4]]\n",
    "\n",
    "sum = 0\n",
    "for i in range(len(arr)):\n",
    "    sum += arr[__][__]\n",
    "```"
   ]
  },
  {
   "cell_type": "code",
   "execution_count": null,
   "metadata": {},
   "outputs": [],
   "source": [
    "#| code-fold: true\n",
    "sum = 0\n",
    "for i in range(len(arr)):\n",
    "    sum += arr[i][i]"
   ]
  },
  {
   "cell_type": "markdown",
   "metadata": {},
   "source": [
    "Ok, now we are going to get a little harder. It's OK if you don't get this one. It will simaltaneously give you a better understanding of our matrix multiplication problem, and give you more practice with for loops."
   ]
  },
  {
   "cell_type": "markdown",
   "metadata": {},
   "source": [
    "**Fill in the blanks to sum <ins>all</ins> of the numbers in `arr`:**\n",
    "```python\n",
    "arr = [[1,2],\n",
    "       [4,5]]\n",
    "\n",
    "sum = 0\n",
    "\n",
    "for i in range(__):\n",
    "    sum += arr[__][i % len(arr)]\n",
    "```"
   ]
  },
  {
   "cell_type": "code",
   "execution_count": null,
   "metadata": {},
   "outputs": [],
   "source": [
    "#| code-fold: true\n",
    "arr = [[1,2],\n",
    "       [4,5]]\n",
    "       \n",
    "sum = 0\n",
    "\n",
    "for i in range(len(arr) * len(arr)):\n",
    "    sum += arr[i // len(arr)][i % len(arr)]"
   ]
  },
  {
   "cell_type": "markdown",
   "metadata": {},
   "source": [
    "**Fill in the blanks to sum <ins>all</ins> of the numbers in `arr` (note the extra column):**\n",
    "```python\n",
    "arr = [[1,2,3],\n",
    "       [4,5,6]]\n",
    "\n",
    "sum = 0\n",
    "\n",
    "for i in range(__):\n",
    "    sum += arr[__][i % len(arr[0])]\n",
    "```"
   ]
  },
  {
   "cell_type": "markdown",
   "metadata": {},
   "source": [
    "*Hint: Think about the definition of `M`, `N`, and `K`*"
   ]
  },
  {
   "cell_type": "code",
   "execution_count": 23,
   "metadata": {},
   "outputs": [],
   "source": [
    "#| code-fold: true\n",
    "arr = [[1,2,3],\n",
    "       [4,5,6]]\n",
    "\n",
    "sum = 0\n",
    "\n",
    "for i in range(len(arr) * len(arr[0])):\n",
    "    sum += arr[i // len(arr[0])][i % len(arr[0])]"
   ]
  },
  {
   "cell_type": "markdown",
   "metadata": {},
   "source": [
    "So this is a fun excersize, but the reality is that working with lists like this is going to get very complicated when we are juggling 3 matrices at once. There is a better way to think about iterating through 2d lists."
   ]
  },
  {
   "cell_type": "markdown",
   "metadata": {},
   "source": [
    "Just like we can have lists inside of lists, we can also have *for loops inside of for loops*. Another way to sum all of the elements of `arr` would be the following code:"
   ]
  },
  {
   "cell_type": "code",
   "execution_count": 25,
   "metadata": {},
   "outputs": [
    {
     "data": {
      "text/plain": [
       "21"
      ]
     },
     "execution_count": 25,
     "metadata": {},
     "output_type": "execute_result"
    }
   ],
   "source": [
    "sum = 0\n",
    "\n",
    "for row in range(len(arr[0])):\n",
    "    sum += arr[0][row]\n",
    "\n",
    "for row in range(len(arr[0])):\n",
    "    sum += arr[1][row]\n",
    "\n",
    "print(sum)"
   ]
  },
  {
   "cell_type": "markdown",
   "metadata": {},
   "source": [
    "You can probably already see the problem with this approach though. Our code requires exactly `2` rows to work properly. So we can replace the code above with"
   ]
  },
  {
   "cell_type": "code",
   "execution_count": 26,
   "metadata": {},
   "outputs": [
    {
     "data": {
      "text/plain": [
       "21"
      ]
     },
     "execution_count": 26,
     "metadata": {},
     "output_type": "execute_result"
    }
   ],
   "source": [
    "sum = 0\n",
    "\n",
    "for col in range(len(arr)):\n",
    "    for row in range(len(arr[0])):\n",
    "        sum += arr[col][row]\n",
    "\n",
    "print(sum)"
   ]
  },
  {
   "cell_type": "markdown",
   "metadata": {},
   "source": [
    "Its the same idea as when you learned we could nest lists together. In general, if something can contain itself, then it opens up whole new *dimensions* of possibility!"
   ]
  },
  {
   "cell_type": "markdown",
   "metadata": {},
   "source": [
    "We don't have to stop here. We can nest as many for loops as we want. Same for lists, although for our problem we are only dealing with matrices which are 2d lists."
   ]
  },
  {
   "cell_type": "markdown",
   "metadata": {},
   "source": [
    "You have now learned about *iteration*. You now have the foundation to write the matrix multiplication code"
   ]
  },
  {
   "cell_type": "markdown",
   "metadata": {},
   "source": [
    "# Putting it all together"
   ]
  },
  {
   "cell_type": "markdown",
   "metadata": {},
   "source": [
    "The keyword is *you*. *You* are going to write it. I will ask a series of questions to guide you in the right direction, and then by the end of this section, you will fully understand the code I showed you at the beginning of this blog post."
   ]
  },
  {
   "cell_type": "code",
   "execution_count": 28,
   "metadata": {},
   "outputs": [],
   "source": [
    "M = len(a_mat)\n",
    "N = len(b_mat)\n",
    "K = len(b_mat[0])\n",
    "\n",
    "a_mat = [[1,2],\n",
    "         [3,4]]\n",
    "b_mat = [[0,1],\n",
    "         [1,0]]\n",
    "\n",
    "c_mat = [[a_mat[0][0]*b_mat[0][0] + a_mat[0][1]*b_mat[1][0], a_mat[0][0]*b_mat[0][1] + a_mat[0][1]*b_mat[1][1]],\n",
    "         [a_mat[1][0]*b_mat[0][0] + a_mat[1][1]*b_mat[1][0], a_mat[1][0]*b_mat[0][1] + a_mat[1][1]*b_mat[1][1]]]"
   ]
  },
  {
   "cell_type": "markdown",
   "metadata": {},
   "source": [
    "> \"And we see that it clearly does work. But the code is incredibly hard to read and we can only do it for fixed dimensions. If we try to change the shape of our matrices, our program will break.\""
   ]
  },
  {
   "cell_type": "markdown",
   "metadata": {},
   "source": [
    "In a previous section, we got to a partial solution for our problem statement. We found out how to obtain `M`, `N` and `K` and we hard coded a way to multiply a 2x2 matrix. But we can do better. We need to generalize to any 2 *valid matrices* for multiplication."
   ]
  },
  {
   "cell_type": "markdown",
   "metadata": {},
   "source": [
    "`c_mat` is going to be a 2d list of 0s that we are going to sum to. Remember the `sum` variable from the previous section? We are basically going to use `c_mat` as a 2d list of them. It is OK to look at the original code to answer the following questions. The goal of these questions is to get you to analyze the code for yourself."
   ]
  },
  {
   "cell_type": "markdown",
   "metadata": {},
   "source": [
    "**How many `for` loops will we need for our multiplication?**"
   ]
  },
  {
   "cell_type": "code",
   "execution_count": null,
   "metadata": {},
   "outputs": [],
   "source": [
    "#| code-fold: true\n",
    "3\n",
    "# We need 2 for loops to iterate over the elements of a_mat and b_mat, \n",
    "# and a 3rd for loop to keep track of where we are summing in c_mat"
   ]
  },
  {
   "cell_type": "markdown",
   "metadata": {},
   "source": [
    "**What should we replace `__ * __` with?**"
   ]
  },
  {
   "cell_type": "code",
   "execution_count": null,
   "metadata": {},
   "outputs": [],
   "source": [
    "a_mat = [[1,2,3],\n",
    "         [4,5,6]]\n",
    "\n",
    "b_mat = [[9,8],\n",
    "         [7,6],\n",
    "         [5,4]]\n",
    "\n",
    "c_mat = [[0,0],\n",
    "         [0,0]]\n",
    "\n",
    "for i in range(N):\n",
    "    for j in range(K):\n",
    "        for k in range(M):\n",
    "            c_mat[k][j] += __ * __"
   ]
  },
  {
   "cell_type": "code",
   "execution_count": null,
   "metadata": {},
   "outputs": [],
   "source": [
    "#| code-fold: true\n",
    "for i in range(N):\n",
    "    for j in range(K):\n",
    "        for k in range(M):\n",
    "            c_mat[k][j] += a_mat[k][i] * b_mat[i][j]"
   ]
  },
  {
   "cell_type": "markdown",
   "metadata": {},
   "source": [
    "Congratulations! You now understand how to implement matrix multiplication in Python. "
   ]
  },
  {
   "cell_type": "markdown",
   "metadata": {},
   "source": [
    "# Conclusion"
   ]
  },
  {
   "cell_type": "markdown",
   "metadata": {},
   "source": [
    "I am still trying to figure out how I want to write my blogs. I wanted to start off with something simple. I am discovering that the best blogs are not the ones that invent some new novel concept, but rather are the ones that can explain a concept as clearly as possible. As by \"About\" page says, I am interested in Computer Graphics, Vision, and Deep Learning. Future blogs will cover more advanced concepts, however matrix multiplication lies at the heart of all these fields. So I figured this was a good place to start."
   ]
  },
  {
   "cell_type": "markdown",
   "metadata": {},
   "source": [
    "This is a topic that by far the most people in CSE 101 struggled with. So I hope that future people who take this course will see this blog, and realize that although this stuff is complicated, its not out of their grasp."
   ]
  },
  {
   "cell_type": "markdown",
   "metadata": {},
   "source": [
    "Till the next blog! 🐍"
   ]
  }
 ],
 "metadata": {
  "kernelspec": {
   "display_name": "Python 3",
   "language": "python",
   "name": "python3"
  },
  "language_info": {
   "codemirror_mode": {
    "name": "ipython",
    "version": 3
   },
   "file_extension": ".py",
   "mimetype": "text/x-python",
   "name": "python",
   "nbconvert_exporter": "python",
   "pygments_lexer": "ipython3",
   "version": "3.11.2"
  }
 },
 "nbformat": 4,
 "nbformat_minor": 2
}
